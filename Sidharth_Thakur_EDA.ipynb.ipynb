{
 "cells": [
  {
   "cell_type": "code",
   "execution_count": 2,
   "id": "2f65b449-33eb-4771-9355-caee99975cb0",
   "metadata": {
    "tags": []
   },
   "outputs": [],
   "source": [
    "import pandas as pd \n",
    "import matplotlib.pyplot as plt\n",
    "import seaborn as sns"
   ]
  },
  {
   "cell_type": "code",
   "execution_count": 4,
   "id": "2449707e-9bd6-48ec-992b-b5e4e3f35ca0",
   "metadata": {
    "tags": []
   },
   "outputs": [],
   "source": [
    "# load datasets\n",
    "customers = pd.read_csv('Customers.csv')\n",
    "products = pd.read_csv('Products.csv')\n",
    "transactions = pd.read_csv('Transactions.csv')"
   ]
  },
  {
   "cell_type": "code",
   "execution_count": 7,
   "id": "ad0ce8df-8cc2-4851-ba2e-64c5ab5e0d0c",
   "metadata": {
    "tags": []
   },
   "outputs": [
    {
     "name": "stdout",
     "output_type": "stream",
     "text": [
      "<class 'pandas.core.frame.DataFrame'>\n",
      "RangeIndex: 200 entries, 0 to 199\n",
      "Data columns (total 4 columns):\n",
      " #   Column        Non-Null Count  Dtype \n",
      "---  ------        --------------  ----- \n",
      " 0   CustomerID    200 non-null    object\n",
      " 1   CustomerName  200 non-null    object\n",
      " 2   Region        200 non-null    object\n",
      " 3   SignupDate    200 non-null    object\n",
      "dtypes: object(4)\n",
      "memory usage: 6.4+ KB\n"
     ]
    }
   ],
   "source": [
    "customers.info()"
   ]
  },
  {
   "cell_type": "code",
   "execution_count": 10,
   "id": "291a6664-eb59-4211-b61c-5ed78578bb6d",
   "metadata": {
    "tags": []
   },
   "outputs": [],
   "source": [
    "# Convert date columns to datetime\n",
    "customers['SignupDate'] = pd.to_datetime(customers['SignupDate'])\n"
   ]
  },
  {
   "cell_type": "code",
   "execution_count": 13,
   "id": "768dcca8-b177-45ab-9a74-56709ba34e28",
   "metadata": {
    "tags": []
   },
   "outputs": [
    {
     "name": "stdout",
     "output_type": "stream",
     "text": [
      "<class 'pandas.core.frame.DataFrame'>\n",
      "RangeIndex: 200 entries, 0 to 199\n",
      "Data columns (total 4 columns):\n",
      " #   Column        Non-Null Count  Dtype         \n",
      "---  ------        --------------  -----         \n",
      " 0   CustomerID    200 non-null    object        \n",
      " 1   CustomerName  200 non-null    object        \n",
      " 2   Region        200 non-null    object        \n",
      " 3   SignupDate    200 non-null    datetime64[ns]\n",
      "dtypes: datetime64[ns](1), object(3)\n",
      "memory usage: 6.4+ KB\n"
     ]
    }
   ],
   "source": [
    "customers.info()"
   ]
  },
  {
   "cell_type": "code",
   "execution_count": 23,
   "id": "a7409f98-41bf-436c-8687-ca3321d164f2",
   "metadata": {
    "tags": []
   },
   "outputs": [
    {
     "data": {
      "text/html": [
       "<div>\n",
       "<style scoped>\n",
       "    .dataframe tbody tr th:only-of-type {\n",
       "        vertical-align: middle;\n",
       "    }\n",
       "\n",
       "    .dataframe tbody tr th {\n",
       "        vertical-align: top;\n",
       "    }\n",
       "\n",
       "    .dataframe thead th {\n",
       "        text-align: right;\n",
       "    }\n",
       "</style>\n",
       "<table border=\"1\" class=\"dataframe\">\n",
       "  <thead>\n",
       "    <tr style=\"text-align: right;\">\n",
       "      <th></th>\n",
       "      <th>TransactionID</th>\n",
       "      <th>CustomerID</th>\n",
       "      <th>ProductID</th>\n",
       "      <th>TransactionDate</th>\n",
       "      <th>Quantity</th>\n",
       "      <th>TotalValue</th>\n",
       "      <th>Price</th>\n",
       "    </tr>\n",
       "  </thead>\n",
       "  <tbody>\n",
       "    <tr>\n",
       "      <th>0</th>\n",
       "      <td>T00001</td>\n",
       "      <td>C0199</td>\n",
       "      <td>P067</td>\n",
       "      <td>2024-08-25 12:38:23</td>\n",
       "      <td>1</td>\n",
       "      <td>300.68</td>\n",
       "      <td>300.68</td>\n",
       "    </tr>\n",
       "    <tr>\n",
       "      <th>1</th>\n",
       "      <td>T00112</td>\n",
       "      <td>C0146</td>\n",
       "      <td>P067</td>\n",
       "      <td>2024-05-27 22:23:54</td>\n",
       "      <td>1</td>\n",
       "      <td>300.68</td>\n",
       "      <td>300.68</td>\n",
       "    </tr>\n",
       "    <tr>\n",
       "      <th>2</th>\n",
       "      <td>T00166</td>\n",
       "      <td>C0127</td>\n",
       "      <td>P067</td>\n",
       "      <td>2024-04-25 07:38:55</td>\n",
       "      <td>1</td>\n",
       "      <td>300.68</td>\n",
       "      <td>300.68</td>\n",
       "    </tr>\n",
       "    <tr>\n",
       "      <th>3</th>\n",
       "      <td>T00272</td>\n",
       "      <td>C0087</td>\n",
       "      <td>P067</td>\n",
       "      <td>2024-03-26 22:55:37</td>\n",
       "      <td>2</td>\n",
       "      <td>601.36</td>\n",
       "      <td>300.68</td>\n",
       "    </tr>\n",
       "    <tr>\n",
       "      <th>4</th>\n",
       "      <td>T00363</td>\n",
       "      <td>C0070</td>\n",
       "      <td>P067</td>\n",
       "      <td>2024-03-21 15:10:10</td>\n",
       "      <td>3</td>\n",
       "      <td>902.04</td>\n",
       "      <td>300.68</td>\n",
       "    </tr>\n",
       "    <tr>\n",
       "      <th>...</th>\n",
       "      <td>...</td>\n",
       "      <td>...</td>\n",
       "      <td>...</td>\n",
       "      <td>...</td>\n",
       "      <td>...</td>\n",
       "      <td>...</td>\n",
       "      <td>...</td>\n",
       "    </tr>\n",
       "    <tr>\n",
       "      <th>995</th>\n",
       "      <td>T00496</td>\n",
       "      <td>C0118</td>\n",
       "      <td>P037</td>\n",
       "      <td>2024-10-24 08:30:27</td>\n",
       "      <td>1</td>\n",
       "      <td>459.86</td>\n",
       "      <td>459.86</td>\n",
       "    </tr>\n",
       "    <tr>\n",
       "      <th>996</th>\n",
       "      <td>T00759</td>\n",
       "      <td>C0059</td>\n",
       "      <td>P037</td>\n",
       "      <td>2024-06-04 02:15:24</td>\n",
       "      <td>3</td>\n",
       "      <td>1379.58</td>\n",
       "      <td>459.86</td>\n",
       "    </tr>\n",
       "    <tr>\n",
       "      <th>997</th>\n",
       "      <td>T00922</td>\n",
       "      <td>C0018</td>\n",
       "      <td>P037</td>\n",
       "      <td>2024-04-05 13:05:32</td>\n",
       "      <td>4</td>\n",
       "      <td>1839.44</td>\n",
       "      <td>459.86</td>\n",
       "    </tr>\n",
       "    <tr>\n",
       "      <th>998</th>\n",
       "      <td>T00959</td>\n",
       "      <td>C0115</td>\n",
       "      <td>P037</td>\n",
       "      <td>2024-09-29 10:16:02</td>\n",
       "      <td>2</td>\n",
       "      <td>919.72</td>\n",
       "      <td>459.86</td>\n",
       "    </tr>\n",
       "    <tr>\n",
       "      <th>999</th>\n",
       "      <td>T00992</td>\n",
       "      <td>C0024</td>\n",
       "      <td>P037</td>\n",
       "      <td>2024-04-21 10:52:24</td>\n",
       "      <td>1</td>\n",
       "      <td>459.86</td>\n",
       "      <td>459.86</td>\n",
       "    </tr>\n",
       "  </tbody>\n",
       "</table>\n",
       "<p>1000 rows × 7 columns</p>\n",
       "</div>"
      ],
      "text/plain": [
       "    TransactionID CustomerID ProductID     TransactionDate  Quantity  \\\n",
       "0          T00001      C0199      P067 2024-08-25 12:38:23         1   \n",
       "1          T00112      C0146      P067 2024-05-27 22:23:54         1   \n",
       "2          T00166      C0127      P067 2024-04-25 07:38:55         1   \n",
       "3          T00272      C0087      P067 2024-03-26 22:55:37         2   \n",
       "4          T00363      C0070      P067 2024-03-21 15:10:10         3   \n",
       "..            ...        ...       ...                 ...       ...   \n",
       "995        T00496      C0118      P037 2024-10-24 08:30:27         1   \n",
       "996        T00759      C0059      P037 2024-06-04 02:15:24         3   \n",
       "997        T00922      C0018      P037 2024-04-05 13:05:32         4   \n",
       "998        T00959      C0115      P037 2024-09-29 10:16:02         2   \n",
       "999        T00992      C0024      P037 2024-04-21 10:52:24         1   \n",
       "\n",
       "     TotalValue   Price  \n",
       "0        300.68  300.68  \n",
       "1        300.68  300.68  \n",
       "2        300.68  300.68  \n",
       "3        601.36  300.68  \n",
       "4        902.04  300.68  \n",
       "..          ...     ...  \n",
       "995      459.86  459.86  \n",
       "996     1379.58  459.86  \n",
       "997     1839.44  459.86  \n",
       "998      919.72  459.86  \n",
       "999      459.86  459.86  \n",
       "\n",
       "[1000 rows x 7 columns]"
      ]
     },
     "execution_count": 23,
     "metadata": {},
     "output_type": "execute_result"
    }
   ],
   "source": [
    "transactions"
   ]
  },
  {
   "cell_type": "code",
   "execution_count": 21,
   "id": "dde8e7e9-777c-4683-bc7f-aa1ee48a4172",
   "metadata": {
    "tags": []
   },
   "outputs": [],
   "source": [
    "# Convert date columns to datetime\n",
    "transactions['TransactionDate'] = pd.to_datetime(transactions['TransactionDate'])"
   ]
  },
  {
   "cell_type": "code",
   "execution_count": 26,
   "id": "f56288f0-0fd1-4648-9421-77cde77d3962",
   "metadata": {
    "tags": []
   },
   "outputs": [
    {
     "name": "stdout",
     "output_type": "stream",
     "text": [
      "<class 'pandas.core.frame.DataFrame'>\n",
      "RangeIndex: 1000 entries, 0 to 999\n",
      "Data columns (total 7 columns):\n",
      " #   Column           Non-Null Count  Dtype         \n",
      "---  ------           --------------  -----         \n",
      " 0   TransactionID    1000 non-null   object        \n",
      " 1   CustomerID       1000 non-null   object        \n",
      " 2   ProductID        1000 non-null   object        \n",
      " 3   TransactionDate  1000 non-null   datetime64[ns]\n",
      " 4   Quantity         1000 non-null   int64         \n",
      " 5   TotalValue       1000 non-null   float64       \n",
      " 6   Price            1000 non-null   float64       \n",
      "dtypes: datetime64[ns](1), float64(2), int64(1), object(3)\n",
      "memory usage: 54.8+ KB\n"
     ]
    }
   ],
   "source": [
    "transactions.info()"
   ]
  },
  {
   "cell_type": "code",
   "execution_count": 29,
   "id": "0c381319-06ca-43ec-89f5-19b4b4fae783",
   "metadata": {
    "tags": []
   },
   "outputs": [],
   "source": [
    "# Customer distribution by region\n",
    "regional_distribution = customers['Region'].value_counts()"
   ]
  },
  {
   "cell_type": "code",
   "execution_count": 32,
   "id": "d38e9e13-a163-4653-bd8f-85eed1c00920",
   "metadata": {
    "tags": []
   },
   "outputs": [
    {
     "data": {
      "text/plain": [
       "South America    59\n",
       "Europe           50\n",
       "North America    46\n",
       "Asia             45\n",
       "Name: Region, dtype: int64"
      ]
     },
     "execution_count": 32,
     "metadata": {},
     "output_type": "execute_result"
    }
   ],
   "source": [
    "regional_distribution"
   ]
  },
  {
   "cell_type": "code",
   "execution_count": 35,
   "id": "4e454b60-f525-41ff-954c-a544d8c8f1bb",
   "metadata": {
    "tags": []
   },
   "outputs": [
    {
     "data": {
      "image/png": "[encoded data removed]",
      "text/plain": [
       "<Figure size 800x500 with 1 Axes>"
      ]
     },
     "metadata": {},
     "output_type": "display_data"
    }
   ],
   "source": [
    "plt.figure(figsize =(8,5))\n",
    "sns.barplot(x =regional_distribution.index, y=regional_distribution.values, palette=\"viridis\")\n",
    "plt.title(\"Customer Distribution by Region\")\n",
    "plt.xlabel(\"Region\")\n",
    "plt.ylabel(\"Number of Customers\")\n",
    "plt.show()"
   ]
  },
  {
   "cell_type": "code",
   "execution_count": 38,
   "id": "3f1a1171-f778-4552-87b8-4a90ffde57df",
   "metadata": {
    "tags": []
   },
   "outputs": [],
   "source": [
    "# Product distribution by category\n",
    "Category_distribution=products['Category'].value_counts()"
   ]
  },
  {
   "cell_type": "code",
   "execution_count": 40,
   "id": "ddb691f7-6479-45a5-9ae5-087e1a0dffc1",
   "metadata": {
    "tags": []
   },
   "outputs": [
    {
     "data": {
      "text/plain": [
       "Books          26\n",
       "Electronics    26\n",
       "Clothing       25\n",
       "Home Decor     23\n",
       "Name: Category, dtype: int64"
      ]
     },
     "execution_count": 40,
     "metadata": {},
     "output_type": "execute_result"
    }
   ],
   "source": [
    "Category_distribution"
   ]
  },
  {
   "cell_type": "code",
   "execution_count": 43,
   "id": "8c003586-ae72-4d24-a3ca-035e9019b64f",
   "metadata": {
    "tags": []
   },
   "outputs": [
    {
     "data": {
      "image/png": "[encoded data removed]",
      "text/plain": [
       "<Figure size 800x500 with 1 Axes>"
      ]
     },
     "metadata": {},
     "output_type": "display_data"
    }
   ],
   "source": [
    "plt.figure(figsize = (8,5))\n",
    "sns.barplot(x =Category_distribution.index, y = Category_distribution.values, palette=\"mako\")\n",
    "plt.title(\"Product distribution by Category\")\n",
    "plt.xlabel(\"Category\")\n",
    "plt.ylabel('Number of Products')\n",
    "plt.show()\n"
   ]
  },
  {
   "cell_type": "code",
   "execution_count": 46,
   "id": "e2cbb105-9ca4-4076-b0f7-8d709ebfb429",
   "metadata": {
    "tags": []
   },
   "outputs": [
    {
     "data": {
      "text/html": [
       "<div>\n",
       "<style scoped>\n",
       "    .dataframe tbody tr th:only-of-type {\n",
       "        vertical-align: middle;\n",
       "    }\n",
       "\n",
       "    .dataframe tbody tr th {\n",
       "        vertical-align: top;\n",
       "    }\n",
       "\n",
       "    .dataframe thead th {\n",
       "        text-align: right;\n",
       "    }\n",
       "</style>\n",
       "<table border=\"1\" class=\"dataframe\">\n",
       "  <thead>\n",
       "    <tr style=\"text-align: right;\">\n",
       "      <th></th>\n",
       "      <th>TransactionID</th>\n",
       "      <th>CustomerID</th>\n",
       "      <th>ProductID</th>\n",
       "      <th>TransactionDate</th>\n",
       "      <th>Quantity</th>\n",
       "      <th>TotalValue</th>\n",
       "      <th>Price</th>\n",
       "    </tr>\n",
       "  </thead>\n",
       "  <tbody>\n",
       "    <tr>\n",
       "      <th>0</th>\n",
       "      <td>T00001</td>\n",
       "      <td>C0199</td>\n",
       "      <td>P067</td>\n",
       "      <td>2024-08-25 12:38:23</td>\n",
       "      <td>1</td>\n",
       "      <td>300.68</td>\n",
       "      <td>300.68</td>\n",
       "    </tr>\n",
       "    <tr>\n",
       "      <th>1</th>\n",
       "      <td>T00112</td>\n",
       "      <td>C0146</td>\n",
       "      <td>P067</td>\n",
       "      <td>2024-05-27 22:23:54</td>\n",
       "      <td>1</td>\n",
       "      <td>300.68</td>\n",
       "      <td>300.68</td>\n",
       "    </tr>\n",
       "    <tr>\n",
       "      <th>2</th>\n",
       "      <td>T00166</td>\n",
       "      <td>C0127</td>\n",
       "      <td>P067</td>\n",
       "      <td>2024-04-25 07:38:55</td>\n",
       "      <td>1</td>\n",
       "      <td>300.68</td>\n",
       "      <td>300.68</td>\n",
       "    </tr>\n",
       "    <tr>\n",
       "      <th>3</th>\n",
       "      <td>T00272</td>\n",
       "      <td>C0087</td>\n",
       "      <td>P067</td>\n",
       "      <td>2024-03-26 22:55:37</td>\n",
       "      <td>2</td>\n",
       "      <td>601.36</td>\n",
       "      <td>300.68</td>\n",
       "    </tr>\n",
       "    <tr>\n",
       "      <th>4</th>\n",
       "      <td>T00363</td>\n",
       "      <td>C0070</td>\n",
       "      <td>P067</td>\n",
       "      <td>2024-03-21 15:10:10</td>\n",
       "      <td>3</td>\n",
       "      <td>902.04</td>\n",
       "      <td>300.68</td>\n",
       "    </tr>\n",
       "    <tr>\n",
       "      <th>...</th>\n",
       "      <td>...</td>\n",
       "      <td>...</td>\n",
       "      <td>...</td>\n",
       "      <td>...</td>\n",
       "      <td>...</td>\n",
       "      <td>...</td>\n",
       "      <td>...</td>\n",
       "    </tr>\n",
       "    <tr>\n",
       "      <th>995</th>\n",
       "      <td>T00496</td>\n",
       "      <td>C0118</td>\n",
       "      <td>P037</td>\n",
       "      <td>2024-10-24 08:30:27</td>\n",
       "      <td>1</td>\n",
       "      <td>459.86</td>\n",
       "      <td>459.86</td>\n",
       "    </tr>\n",
       "    <tr>\n",
       "      <th>996</th>\n",
       "      <td>T00759</td>\n",
       "      <td>C0059</td>\n",
       "      <td>P037</td>\n",
       "      <td>2024-06-04 02:15:24</td>\n",
       "      <td>3</td>\n",
       "      <td>1379.58</td>\n",
       "      <td>459.86</td>\n",
       "    </tr>\n",
       "    <tr>\n",
       "      <th>997</th>\n",
       "      <td>T00922</td>\n",
       "      <td>C0018</td>\n",
       "      <td>P037</td>\n",
       "      <td>2024-04-05 13:05:32</td>\n",
       "      <td>4</td>\n",
       "      <td>1839.44</td>\n",
       "      <td>459.86</td>\n",
       "    </tr>\n",
       "    <tr>\n",
       "      <th>998</th>\n",
       "      <td>T00959</td>\n",
       "      <td>C0115</td>\n",
       "      <td>P037</td>\n",
       "      <td>2024-09-29 10:16:02</td>\n",
       "      <td>2</td>\n",
       "      <td>919.72</td>\n",
       "      <td>459.86</td>\n",
       "    </tr>\n",
       "    <tr>\n",
       "      <th>999</th>\n",
       "      <td>T00992</td>\n",
       "      <td>C0024</td>\n",
       "      <td>P037</td>\n",
       "      <td>2024-04-21 10:52:24</td>\n",
       "      <td>1</td>\n",
       "      <td>459.86</td>\n",
       "      <td>459.86</td>\n",
       "    </tr>\n",
       "  </tbody>\n",
       "</table>\n",
       "<p>1000 rows × 7 columns</p>\n",
       "</div>"
      ],
      "text/plain": [
       "    TransactionID CustomerID ProductID     TransactionDate  Quantity  \\\n",
       "0          T00001      C0199      P067 2024-08-25 12:38:23         1   \n",
       "1          T00112      C0146      P067 2024-05-27 22:23:54         1   \n",
       "2          T00166      C0127      P067 2024-04-25 07:38:55         1   \n",
       "3          T00272      C0087      P067 2024-03-26 22:55:37         2   \n",
       "4          T00363      C0070      P067 2024-03-21 15:10:10         3   \n",
       "..            ...        ...       ...                 ...       ...   \n",
       "995        T00496      C0118      P037 2024-10-24 08:30:27         1   \n",
       "996        T00759      C0059      P037 2024-06-04 02:15:24         3   \n",
       "997        T00922      C0018      P037 2024-04-05 13:05:32         4   \n",
       "998        T00959      C0115      P037 2024-09-29 10:16:02         2   \n",
       "999        T00992      C0024      P037 2024-04-21 10:52:24         1   \n",
       "\n",
       "     TotalValue   Price  \n",
       "0        300.68  300.68  \n",
       "1        300.68  300.68  \n",
       "2        300.68  300.68  \n",
       "3        601.36  300.68  \n",
       "4        902.04  300.68  \n",
       "..          ...     ...  \n",
       "995      459.86  459.86  \n",
       "996     1379.58  459.86  \n",
       "997     1839.44  459.86  \n",
       "998      919.72  459.86  \n",
       "999      459.86  459.86  \n",
       "\n",
       "[1000 rows x 7 columns]"
      ]
     },
     "execution_count": 46,
     "metadata": {},
     "output_type": "execute_result"
    }
   ],
   "source": [
    "# Extract year-month for transaction trends\n",
    "transactions"
   ]
  },
  {
   "cell_type": "code",
   "execution_count": 52,
   "id": "6b99bf82-c3fa-4a72-9703-ae48c786a9e3",
   "metadata": {
    "tags": []
   },
   "outputs": [],
   "source": [
    "# Extract year-month for transaction trends\n",
    "transactions['YearMonth']=transactions['TransactionDate'].dt.to_period('M')"
   ]
  },
  {
   "cell_type": "code",
   "execution_count": 54,
   "id": "65776221-2d99-4106-a88b-8b8758a42884",
   "metadata": {
    "tags": []
   },
   "outputs": [
    {
     "data": {
      "text/html": [
       "<div>\n",
       "<style scoped>\n",
       "    .dataframe tbody tr th:only-of-type {\n",
       "        vertical-align: middle;\n",
       "    }\n",
       "\n",
       "    .dataframe tbody tr th {\n",
       "        vertical-align: top;\n",
       "    }\n",
       "\n",
       "    .dataframe thead th {\n",
       "        text-align: right;\n",
       "    }\n",
       "</style>\n",
       "<table border=\"1\" class=\"dataframe\">\n",
       "  <thead>\n",
       "    <tr style=\"text-align: right;\">\n",
       "      <th></th>\n",
       "      <th>TransactionID</th>\n",
       "      <th>CustomerID</th>\n",
       "      <th>ProductID</th>\n",
       "      <th>TransactionDate</th>\n",
       "      <th>Quantity</th>\n",
       "      <th>TotalValue</th>\n",
       "      <th>Price</th>\n",
       "      <th>YearMonth</th>\n",
       "    </tr>\n",
       "  </thead>\n",
       "  <tbody>\n",
       "    <tr>\n",
       "      <th>0</th>\n",
       "      <td>T00001</td>\n",
       "      <td>C0199</td>\n",
       "      <td>P067</td>\n",
       "      <td>2024-08-25 12:38:23</td>\n",
       "      <td>1</td>\n",
       "      <td>300.68</td>\n",
       "      <td>300.68</td>\n",
       "      <td>2024-08</td>\n",
       "    </tr>\n",
       "    <tr>\n",
       "      <th>1</th>\n",
       "      <td>T00112</td>\n",
       "      <td>C0146</td>\n",
       "      <td>P067</td>\n",
       "      <td>2024-05-27 22:23:54</td>\n",
       "      <td>1</td>\n",
       "      <td>300.68</td>\n",
       "      <td>300.68</td>\n",
       "      <td>2024-05</td>\n",
       "    </tr>\n",
       "    <tr>\n",
       "      <th>2</th>\n",
       "      <td>T00166</td>\n",
       "      <td>C0127</td>\n",
       "      <td>P067</td>\n",
       "      <td>2024-04-25 07:38:55</td>\n",
       "      <td>1</td>\n",
       "      <td>300.68</td>\n",
       "      <td>300.68</td>\n",
       "      <td>2024-04</td>\n",
       "    </tr>\n",
       "    <tr>\n",
       "      <th>3</th>\n",
       "      <td>T00272</td>\n",
       "      <td>C0087</td>\n",
       "      <td>P067</td>\n",
       "      <td>2024-03-26 22:55:37</td>\n",
       "      <td>2</td>\n",
       "      <td>601.36</td>\n",
       "      <td>300.68</td>\n",
       "      <td>2024-03</td>\n",
       "    </tr>\n",
       "    <tr>\n",
       "      <th>4</th>\n",
       "      <td>T00363</td>\n",
       "      <td>C0070</td>\n",
       "      <td>P067</td>\n",
       "      <td>2024-03-21 15:10:10</td>\n",
       "      <td>3</td>\n",
       "      <td>902.04</td>\n",
       "      <td>300.68</td>\n",
       "      <td>2024-03</td>\n",
       "    </tr>\n",
       "    <tr>\n",
       "      <th>...</th>\n",
       "      <td>...</td>\n",
       "      <td>...</td>\n",
       "      <td>...</td>\n",
       "      <td>...</td>\n",
       "      <td>...</td>\n",
       "      <td>...</td>\n",
       "      <td>...</td>\n",
       "      <td>...</td>\n",
       "    </tr>\n",
       "    <tr>\n",
       "      <th>995</th>\n",
       "      <td>T00496</td>\n",
       "      <td>C0118</td>\n",
       "      <td>P037</td>\n",
       "      <td>2024-10-24 08:30:27</td>\n",
       "      <td>1</td>\n",
       "      <td>459.86</td>\n",
       "      <td>459.86</td>\n",
       "      <td>2024-10</td>\n",
       "    </tr>\n",
       "    <tr>\n",
       "      <th>996</th>\n",
       "      <td>T00759</td>\n",
       "      <td>C0059</td>\n",
       "      <td>P037</td>\n",
       "      <td>2024-06-04 02:15:24</td>\n",
       "      <td>3</td>\n",
       "      <td>1379.58</td>\n",
       "      <td>459.86</td>\n",
       "      <td>2024-06</td>\n",
       "    </tr>\n",
       "    <tr>\n",
       "      <th>997</th>\n",
       "      <td>T00922</td>\n",
       "      <td>C0018</td>\n",
       "      <td>P037</td>\n",
       "      <td>2024-04-05 13:05:32</td>\n",
       "      <td>4</td>\n",
       "      <td>1839.44</td>\n",
       "      <td>459.86</td>\n",
       "      <td>2024-04</td>\n",
       "    </tr>\n",
       "    <tr>\n",
       "      <th>998</th>\n",
       "      <td>T00959</td>\n",
       "      <td>C0115</td>\n",
       "      <td>P037</td>\n",
       "      <td>2024-09-29 10:16:02</td>\n",
       "      <td>2</td>\n",
       "      <td>919.72</td>\n",
       "      <td>459.86</td>\n",
       "      <td>2024-09</td>\n",
       "    </tr>\n",
       "    <tr>\n",
       "      <th>999</th>\n",
       "      <td>T00992</td>\n",
       "      <td>C0024</td>\n",
       "      <td>P037</td>\n",
       "      <td>2024-04-21 10:52:24</td>\n",
       "      <td>1</td>\n",
       "      <td>459.86</td>\n",
       "      <td>459.86</td>\n",
       "      <td>2024-04</td>\n",
       "    </tr>\n",
       "  </tbody>\n",
       "</table>\n",
       "<p>1000 rows × 8 columns</p>\n",
       "</div>"
      ],
      "text/plain": [
       "    TransactionID CustomerID ProductID     TransactionDate  Quantity  \\\n",
       "0          T00001      C0199      P067 2024-08-25 12:38:23         1   \n",
       "1          T00112      C0146      P067 2024-05-27 22:23:54         1   \n",
       "2          T00166      C0127      P067 2024-04-25 07:38:55         1   \n",
       "3          T00272      C0087      P067 2024-03-26 22:55:37         2   \n",
       "4          T00363      C0070      P067 2024-03-21 15:10:10         3   \n",
       "..            ...        ...       ...                 ...       ...   \n",
       "995        T00496      C0118      P037 2024-10-24 08:30:27         1   \n",
       "996        T00759      C0059      P037 2024-06-04 02:15:24         3   \n",
       "997        T00922      C0018      P037 2024-04-05 13:05:32         4   \n",
       "998        T00959      C0115      P037 2024-09-29 10:16:02         2   \n",
       "999        T00992      C0024      P037 2024-04-21 10:52:24         1   \n",
       "\n",
       "     TotalValue   Price YearMonth  \n",
       "0        300.68  300.68   2024-08  \n",
       "1        300.68  300.68   2024-05  \n",
       "2        300.68  300.68   2024-04  \n",
       "3        601.36  300.68   2024-03  \n",
       "4        902.04  300.68   2024-03  \n",
       "..          ...     ...       ...  \n",
       "995      459.86  459.86   2024-10  \n",
       "996     1379.58  459.86   2024-06  \n",
       "997     1839.44  459.86   2024-04  \n",
       "998      919.72  459.86   2024-09  \n",
       "999      459.86  459.86   2024-04  \n",
       "\n",
       "[1000 rows x 8 columns]"
      ]
     },
     "execution_count": 54,
     "metadata": {},
     "output_type": "execute_result"
    }
   ],
   "source": [
    "transactions"
   ]
  },
  {
   "cell_type": "code",
   "execution_count": 60,
   "id": "39038758-a5ae-4d80-be4c-7c228d4458fa",
   "metadata": {
    "tags": []
   },
   "outputs": [],
   "source": [
    "# Aggregate total revenue and transactions by month\n",
    "monthly_revenue= transactions.groupby('YearMonth')['TotalValue'].sum()"
   ]
  },
  {
   "cell_type": "code",
   "execution_count": 62,
   "id": "0a8d410a-c103-4942-8d00-6ad2ffeb3ab4",
   "metadata": {
    "tags": []
   },
   "outputs": [
    {
     "data": {
      "text/plain": [
       "YearMonth\n",
       "2023-12     3769.52\n",
       "2024-01    66376.39\n",
       "2024-02    51459.27\n",
       "2024-03    47828.73\n",
       "2024-04    57519.06\n",
       "2024-05    64527.74\n",
       "2024-06    48771.18\n",
       "2024-07    71366.39\n",
       "2024-08    63436.74\n",
       "2024-09    70603.75\n",
       "2024-10    47063.22\n",
       "2024-11    38224.37\n",
       "2024-12    59049.20\n",
       "Freq: M, Name: TotalValue, dtype: float64"
      ]
     },
     "execution_count": 62,
     "metadata": {},
     "output_type": "execute_result"
    }
   ],
   "source": [
    "monthly_revenue"
   ]
  },
  {
   "cell_type": "code",
   "execution_count": 66,
   "id": "70cb65dd-728a-478c-93f6-ab226ffcedca",
   "metadata": {
    "tags": []
   },
   "outputs": [],
   "source": [
    "monthly_transactions=transactions.groupby('YearMonth')['TransactionID'].count()"
   ]
  },
  {
   "cell_type": "code",
   "execution_count": 68,
   "id": "9511150c-3519-4aab-a1dd-c2f145204403",
   "metadata": {
    "tags": []
   },
   "outputs": [
    {
     "data": {
      "text/plain": [
       "YearMonth\n",
       "2023-12      4\n",
       "2024-01    107\n",
       "2024-02     77\n",
       "2024-03     80\n",
       "2024-04     86\n",
       "2024-05     86\n",
       "2024-06     69\n",
       "2024-07     96\n",
       "2024-08     94\n",
       "2024-09     96\n",
       "2024-10     70\n",
       "2024-11     57\n",
       "2024-12     78\n",
       "Freq: M, Name: TransactionID, dtype: int64"
      ]
     },
     "execution_count": 68,
     "metadata": {},
     "output_type": "execute_result"
    }
   ],
   "source": [
    "monthly_transactions"
   ]
  },
  {
   "cell_type": "code",
   "execution_count": 70,
   "id": "12da3908-c3d9-4398-bf45-4dcc972d70dc",
   "metadata": {
    "tags": []
   },
   "outputs": [
    {
     "data": {
      "image/png": "[encoded data removed]",
      "text/plain": [
       "<Figure size 1200x600 with 1 Axes>"
      ]
     },
     "metadata": {},
     "output_type": "display_data"
    }
   ],
   "source": [
    "# Plot revenue trends over time\n",
    "plt.figure(figsize=(12, 6))\n",
    "monthly_revenue.plot(kind='line', marker='o', color='teal', label='Revenue', linewidth=2)\n",
    "plt.title(\"Monthly Revenue Trends\")\n",
    "plt.xlabel(\"Year-Month\")\n",
    "plt.ylabel(\"Total Revenue (USD)\")\n",
    "plt.xticks(rotation=45)\n",
    "plt.legend()\n",
    "plt.grid(True, linestyle='--', alpha=0.6)\n",
    "plt.show()"
   ]
  },
  {
   "cell_type": "code",
   "execution_count": 72,
   "id": "721b98fc-a29e-47b7-a53d-b393f0a2c8ae",
   "metadata": {
    "tags": []
   },
   "outputs": [
    {
     "data": {
      "image/png": "[encoded data removed]",
      "text/plain": [
       "<Figure size 1200x600 with 1 Axes>"
      ]
     },
     "metadata": {},
     "output_type": "display_data"
    }
   ],
   "source": [
    "# Plot transaction trends over time\n",
    "plt.figure(figsize=(12, 6))\n",
    "monthly_transactions.plot(kind='line', marker='s', color='darkorange', label='Transactions', linewidth=2)\n",
    "plt.title(\"Monthly Transaction Trends\")\n",
    "plt.xlabel(\"Year-Month\")\n",
    "plt.ylabel(\"Number of Transactions\")\n",
    "plt.xticks(rotation=45)\n",
    "plt.legend()\n",
    "plt.grid(True, linestyle='--', alpha=0.6)\n",
    "plt.show()\n"
   ]
  },
  {
   "cell_type": "code",
   "execution_count": 76,
   "id": "f37734a6-2ebc-4794-8d40-caec84652ba2",
   "metadata": {
    "tags": []
   },
   "outputs": [],
   "source": [
    "# Merge transactions with products and customers\n",
    "transactions_merged = transactions.merge(products, on = 'ProductID').merge(customers,on ='CustomerID')\n"
   ]
  },
  {
   "cell_type": "code",
   "execution_count": 78,
   "id": "79a4efea-b0ec-4164-be52-a35d3dba999e",
   "metadata": {
    "tags": []
   },
   "outputs": [
    {
     "data": {
      "text/html": [
       "<div>\n",
       "<style scoped>\n",
       "    .dataframe tbody tr th:only-of-type {\n",
       "        vertical-align: middle;\n",
       "    }\n",
       "\n",
       "    .dataframe tbody tr th {\n",
       "        vertical-align: top;\n",
       "    }\n",
       "\n",
       "    .dataframe thead th {\n",
       "        text-align: right;\n",
       "    }\n",
       "</style>\n",
       "<table border=\"1\" class=\"dataframe\">\n",
       "  <thead>\n",
       "    <tr style=\"text-align: right;\">\n",
       "      <th></th>\n",
       "      <th>TransactionID</th>\n",
       "      <th>CustomerID</th>\n",
       "      <th>ProductID</th>\n",
       "      <th>TransactionDate</th>\n",
       "      <th>Quantity</th>\n",
       "      <th>TotalValue</th>\n",
       "      <th>Price_x</th>\n",
       "      <th>YearMonth</th>\n",
       "      <th>ProductName</th>\n",
       "      <th>Category</th>\n",
       "      <th>Price_y</th>\n",
       "      <th>CustomerName</th>\n",
       "      <th>Region</th>\n",
       "      <th>SignupDate</th>\n",
       "    </tr>\n",
       "  </thead>\n",
       "  <tbody>\n",
       "    <tr>\n",
       "      <th>0</th>\n",
       "      <td>T00001</td>\n",
       "      <td>C0199</td>\n",
       "      <td>P067</td>\n",
       "      <td>2024-08-25 12:38:23</td>\n",
       "      <td>1</td>\n",
       "      <td>300.68</td>\n",
       "      <td>300.68</td>\n",
       "      <td>2024-08</td>\n",
       "      <td>ComfortLiving Bluetooth Speaker</td>\n",
       "      <td>Electronics</td>\n",
       "      <td>300.68</td>\n",
       "      <td>Andrea Jenkins</td>\n",
       "      <td>Europe</td>\n",
       "      <td>2022-12-03</td>\n",
       "    </tr>\n",
       "    <tr>\n",
       "      <th>1</th>\n",
       "      <td>T00761</td>\n",
       "      <td>C0199</td>\n",
       "      <td>P022</td>\n",
       "      <td>2024-10-01 05:57:09</td>\n",
       "      <td>4</td>\n",
       "      <td>550.16</td>\n",
       "      <td>137.54</td>\n",
       "      <td>2024-10</td>\n",
       "      <td>HomeSense Wall Art</td>\n",
       "      <td>Home Decor</td>\n",
       "      <td>137.54</td>\n",
       "      <td>Andrea Jenkins</td>\n",
       "      <td>Europe</td>\n",
       "      <td>2022-12-03</td>\n",
       "    </tr>\n",
       "    <tr>\n",
       "      <th>2</th>\n",
       "      <td>T00626</td>\n",
       "      <td>C0199</td>\n",
       "      <td>P079</td>\n",
       "      <td>2024-08-17 12:06:08</td>\n",
       "      <td>2</td>\n",
       "      <td>834.74</td>\n",
       "      <td>417.37</td>\n",
       "      <td>2024-08</td>\n",
       "      <td>ActiveWear Rug</td>\n",
       "      <td>Home Decor</td>\n",
       "      <td>417.37</td>\n",
       "      <td>Andrea Jenkins</td>\n",
       "      <td>Europe</td>\n",
       "      <td>2022-12-03</td>\n",
       "    </tr>\n",
       "    <tr>\n",
       "      <th>3</th>\n",
       "      <td>T00963</td>\n",
       "      <td>C0199</td>\n",
       "      <td>P008</td>\n",
       "      <td>2024-10-26 00:01:58</td>\n",
       "      <td>2</td>\n",
       "      <td>293.70</td>\n",
       "      <td>146.85</td>\n",
       "      <td>2024-10</td>\n",
       "      <td>BookWorld Bluetooth Speaker</td>\n",
       "      <td>Electronics</td>\n",
       "      <td>146.85</td>\n",
       "      <td>Andrea Jenkins</td>\n",
       "      <td>Europe</td>\n",
       "      <td>2022-12-03</td>\n",
       "    </tr>\n",
       "    <tr>\n",
       "      <th>4</th>\n",
       "      <td>T00112</td>\n",
       "      <td>C0146</td>\n",
       "      <td>P067</td>\n",
       "      <td>2024-05-27 22:23:54</td>\n",
       "      <td>1</td>\n",
       "      <td>300.68</td>\n",
       "      <td>300.68</td>\n",
       "      <td>2024-05</td>\n",
       "      <td>ComfortLiving Bluetooth Speaker</td>\n",
       "      <td>Electronics</td>\n",
       "      <td>300.68</td>\n",
       "      <td>Brittany Harvey</td>\n",
       "      <td>Asia</td>\n",
       "      <td>2024-09-04</td>\n",
       "    </tr>\n",
       "    <tr>\n",
       "      <th>...</th>\n",
       "      <td>...</td>\n",
       "      <td>...</td>\n",
       "      <td>...</td>\n",
       "      <td>...</td>\n",
       "      <td>...</td>\n",
       "      <td>...</td>\n",
       "      <td>...</td>\n",
       "      <td>...</td>\n",
       "      <td>...</td>\n",
       "      <td>...</td>\n",
       "      <td>...</td>\n",
       "      <td>...</td>\n",
       "      <td>...</td>\n",
       "      <td>...</td>\n",
       "    </tr>\n",
       "    <tr>\n",
       "      <th>995</th>\n",
       "      <td>T00774</td>\n",
       "      <td>C0095</td>\n",
       "      <td>P056</td>\n",
       "      <td>2024-01-07 14:19:49</td>\n",
       "      <td>2</td>\n",
       "      <td>32.16</td>\n",
       "      <td>16.08</td>\n",
       "      <td>2024-01</td>\n",
       "      <td>SoundWave Smartwatch</td>\n",
       "      <td>Electronics</td>\n",
       "      <td>16.08</td>\n",
       "      <td>William Walker</td>\n",
       "      <td>South America</td>\n",
       "      <td>2023-03-04</td>\n",
       "    </tr>\n",
       "    <tr>\n",
       "      <th>996</th>\n",
       "      <td>T00823</td>\n",
       "      <td>C0095</td>\n",
       "      <td>P079</td>\n",
       "      <td>2024-09-30 10:45:06</td>\n",
       "      <td>3</td>\n",
       "      <td>1252.11</td>\n",
       "      <td>417.37</td>\n",
       "      <td>2024-09</td>\n",
       "      <td>ActiveWear Rug</td>\n",
       "      <td>Home Decor</td>\n",
       "      <td>417.37</td>\n",
       "      <td>William Walker</td>\n",
       "      <td>South America</td>\n",
       "      <td>2023-03-04</td>\n",
       "    </tr>\n",
       "    <tr>\n",
       "      <th>997</th>\n",
       "      <td>T00369</td>\n",
       "      <td>C0151</td>\n",
       "      <td>P082</td>\n",
       "      <td>2024-12-24 11:40:24</td>\n",
       "      <td>4</td>\n",
       "      <td>223.96</td>\n",
       "      <td>55.99</td>\n",
       "      <td>2024-12</td>\n",
       "      <td>ComfortLiving Rug</td>\n",
       "      <td>Home Decor</td>\n",
       "      <td>55.99</td>\n",
       "      <td>Amber Gonzalez</td>\n",
       "      <td>South America</td>\n",
       "      <td>2024-11-22</td>\n",
       "    </tr>\n",
       "    <tr>\n",
       "      <th>998</th>\n",
       "      <td>T00809</td>\n",
       "      <td>C0078</td>\n",
       "      <td>P075</td>\n",
       "      <td>2024-12-09 11:44:44</td>\n",
       "      <td>2</td>\n",
       "      <td>995.52</td>\n",
       "      <td>497.76</td>\n",
       "      <td>2024-12</td>\n",
       "      <td>TechPro Textbook</td>\n",
       "      <td>Books</td>\n",
       "      <td>497.76</td>\n",
       "      <td>Julia Palmer</td>\n",
       "      <td>Asia</td>\n",
       "      <td>2024-11-13</td>\n",
       "    </tr>\n",
       "    <tr>\n",
       "      <th>999</th>\n",
       "      <td>T00527</td>\n",
       "      <td>C0110</td>\n",
       "      <td>P028</td>\n",
       "      <td>2024-01-02 19:11:34</td>\n",
       "      <td>4</td>\n",
       "      <td>942.32</td>\n",
       "      <td>235.58</td>\n",
       "      <td>2024-01</td>\n",
       "      <td>HomeSense Desk Lamp</td>\n",
       "      <td>Home Decor</td>\n",
       "      <td>235.58</td>\n",
       "      <td>Elizabeth Wells</td>\n",
       "      <td>Asia</td>\n",
       "      <td>2024-09-21</td>\n",
       "    </tr>\n",
       "  </tbody>\n",
       "</table>\n",
       "<p>1000 rows × 14 columns</p>\n",
       "</div>"
      ],
      "text/plain": [
       "    TransactionID CustomerID ProductID     TransactionDate  Quantity  \\\n",
       "0          T00001      C0199      P067 2024-08-25 12:38:23         1   \n",
       "1          T00761      C0199      P022 2024-10-01 05:57:09         4   \n",
       "2          T00626      C0199      P079 2024-08-17 12:06:08         2   \n",
       "3          T00963      C0199      P008 2024-10-26 00:01:58         2   \n",
       "4          T00112      C0146      P067 2024-05-27 22:23:54         1   \n",
       "..            ...        ...       ...                 ...       ...   \n",
       "995        T00774      C0095      P056 2024-01-07 14:19:49         2   \n",
       "996        T00823      C0095      P079 2024-09-30 10:45:06         3   \n",
       "997        T00369      C0151      P082 2024-12-24 11:40:24         4   \n",
       "998        T00809      C0078      P075 2024-12-09 11:44:44         2   \n",
       "999        T00527      C0110      P028 2024-01-02 19:11:34         4   \n",
       "\n",
       "     TotalValue  Price_x YearMonth                      ProductName  \\\n",
       "0        300.68   300.68   2024-08  ComfortLiving Bluetooth Speaker   \n",
       "1        550.16   137.54   2024-10               HomeSense Wall Art   \n",
       "2        834.74   417.37   2024-08                   ActiveWear Rug   \n",
       "3        293.70   146.85   2024-10      BookWorld Bluetooth Speaker   \n",
       "4        300.68   300.68   2024-05  ComfortLiving Bluetooth Speaker   \n",
       "..          ...      ...       ...                              ...   \n",
       "995       32.16    16.08   2024-01             SoundWave Smartwatch   \n",
       "996     1252.11   417.37   2024-09                   ActiveWear Rug   \n",
       "997      223.96    55.99   2024-12                ComfortLiving Rug   \n",
       "998      995.52   497.76   2024-12                 TechPro Textbook   \n",
       "999      942.32   235.58   2024-01              HomeSense Desk Lamp   \n",
       "\n",
       "        Category  Price_y     CustomerName         Region SignupDate  \n",
       "0    Electronics   300.68   Andrea Jenkins         Europe 2022-12-03  \n",
       "1     Home Decor   137.54   Andrea Jenkins         Europe 2022-12-03  \n",
       "2     Home Decor   417.37   Andrea Jenkins         Europe 2022-12-03  \n",
       "3    Electronics   146.85   Andrea Jenkins         Europe 2022-12-03  \n",
       "4    Electronics   300.68  Brittany Harvey           Asia 2024-09-04  \n",
       "..           ...      ...              ...            ...        ...  \n",
       "995  Electronics    16.08   William Walker  South America 2023-03-04  \n",
       "996   Home Decor   417.37   William Walker  South America 2023-03-04  \n",
       "997   Home Decor    55.99   Amber Gonzalez  South America 2024-11-22  \n",
       "998        Books   497.76     Julia Palmer           Asia 2024-11-13  \n",
       "999   Home Decor   235.58  Elizabeth Wells           Asia 2024-09-21  \n",
       "\n",
       "[1000 rows x 14 columns]"
      ]
     },
     "execution_count": 78,
     "metadata": {},
     "output_type": "execute_result"
    }
   ],
   "source": [
    "transactions_merged"
   ]
  },
  {
   "cell_type": "code",
   "execution_count": 84,
   "id": "29818e3d-402f-48de-b39f-32935b90769d",
   "metadata": {
    "tags": []
   },
   "outputs": [],
   "source": [
    "# Top products by revenue\n",
    "top_products =  transactions_merged.groupby('ProductName')['TotalValue'].sum().sort_values(ascending=False).head(10)\n"
   ]
  },
  {
   "cell_type": "code",
   "execution_count": 86,
   "id": "b44def3e-f141-4d01-a96c-c883a6b78e7f",
   "metadata": {
    "tags": []
   },
   "outputs": [
    {
     "data": {
      "text/plain": [
       "ProductName\n",
       "ActiveWear Smartwatch      39096.97\n",
       "SoundWave Headphones       25211.64\n",
       "SoundWave Novel            24507.90\n",
       "ActiveWear Jacket          22712.56\n",
       "ActiveWear Rug             22314.43\n",
       "TechPro Headphones         19513.80\n",
       "BookWorld Cookbook         19221.99\n",
       "BookWorld Sweater          18743.79\n",
       "TechPro Textbook           18267.96\n",
       "ActiveWear Cookware Set    18083.73\n",
       "Name: TotalValue, dtype: float64"
      ]
     },
     "execution_count": 86,
     "metadata": {},
     "output_type": "execute_result"
    }
   ],
   "source": [
    "top_products"
   ]
  },
  {
   "cell_type": "code",
   "execution_count": 90,
   "id": "d4b06b8b-d287-4f9f-909c-5d11da35855d",
   "metadata": {
    "tags": []
   },
   "outputs": [],
   "source": [
    "# Top customers by spending\n",
    "top_customers = transactions_merged.groupby('CustomerName')['TotalValue'].sum().sort_values(ascending=False).head(10)\n"
   ]
  },
  {
   "cell_type": "code",
   "execution_count": 92,
   "id": "919ec28b-96a5-40fe-a469-3096b10de819",
   "metadata": {
    "tags": []
   },
   "outputs": [
    {
     "data": {
      "text/plain": [
       "CustomerName\n",
       "Paul Parsons            10673.87\n",
       "Bruce Rhodes             8040.39\n",
       "Gerald Hines             7663.70\n",
       "William Adams            7634.45\n",
       "Aimee Taylor             7572.91\n",
       "Anna Ball                7111.32\n",
       "Mrs. Kimberly Wright     7073.28\n",
       "Jennifer Pena            6819.57\n",
       "Rodney Eaton             6715.72\n",
       "Juan Mcdaniel            6708.10\n",
       "Name: TotalValue, dtype: float64"
      ]
     },
     "execution_count": 92,
     "metadata": {},
     "output_type": "execute_result"
    }
   ],
   "source": [
    "top_customers"
   ]
  },
  {
   "cell_type": "markdown",
   "id": "200a6f57-de8e-4a5a-a362-67ba03d12e31",
   "metadata": {
    "tags": []
   },
   "source": [
    "Business Insights:\n",
    "1. South America has the highest number of customers (59).\n",
    "2. The 'Books' category has the highest number of products (26).\n",
    "3. Monthly revenue peaked in 2024-07 with $71,366.39 in sales.\n",
    "4. The top product by revenue is 'ActiveWear Smartwatch' with total sales of $39,096.97.\n",
    "5. The top customer by spending is 'Paul Parsons' with total purchases worth $10,673.87."
   ]
  },
  {
   "cell_type": "code",
   "execution_count": 102,
   "id": "30d1f78b-1d4e-481a-b392-85274202314d",
   "metadata": {
    "tags": []
   },
   "outputs": [],
   "source": []
  },
  {
   "cell_type": "code",
   "execution_count": null,
   "id": "433b5dca-b54a-464a-803e-8dd334aa9853",
   "metadata": {},
   "outputs": [],
   "source": []
  }
 ],
 "metadata": {
  "kernelspec": {
   "display_name": "Python 3 (ipykernel)",
   "language": "python",
   "name": "python3"
  },
  "language_info": {
   "codemirror_mode": {
    "name": "ipython",
    "version": 3
   },
   "file_extension": ".py",
   "mimetype": "text/x-python",
   "name": "python",
   "nbconvert_exporter": "python",
   "pygments_lexer": "ipython3",
   "version": "3.11.3"
  }
 },
 "nbformat": 4,
 "nbformat_minor": 5
}
